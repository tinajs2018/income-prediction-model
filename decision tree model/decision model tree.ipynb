{
 "cells": [
  {
   "cell_type": "code",
   "execution_count": 20,
   "metadata": {},
   "outputs": [],
   "source": [
    "import seaborn as sns\n",
    "import numpy as np\n",
    "import pandas as pd\n",
    "import datetime\n",
    "import chardet"
   ]
  },
  {
   "cell_type": "code",
   "execution_count": 21,
   "metadata": {},
   "outputs": [
    {
     "data": {
      "text/html": [
       "<div>\n",
       "<style scoped>\n",
       "    .dataframe tbody tr th:only-of-type {\n",
       "        vertical-align: middle;\n",
       "    }\n",
       "\n",
       "    .dataframe tbody tr th {\n",
       "        vertical-align: top;\n",
       "    }\n",
       "\n",
       "    .dataframe thead th {\n",
       "        text-align: right;\n",
       "    }\n",
       "</style>\n",
       "<table border=\"1\" class=\"dataframe\">\n",
       "  <thead>\n",
       "    <tr style=\"text-align: right;\">\n",
       "      <th></th>\n",
       "      <th>Date</th>\n",
       "      <th>A1</th>\n",
       "      <th>A2</th>\n",
       "      <th>A3</th>\n",
       "      <th>R1</th>\n",
       "      <th>R2</th>\n",
       "      <th>R3</th>\n",
       "      <th>M1</th>\n",
       "      <th>M2</th>\n",
       "      <th>M3</th>\n",
       "      <th>P1</th>\n",
       "      <th>P2</th>\n",
       "      <th>P3</th>\n",
       "      <th>D1</th>\n",
       "    </tr>\n",
       "  </thead>\n",
       "  <tbody>\n",
       "    <tr>\n",
       "      <td>0</td>\n",
       "      <td>01/02/1995</td>\n",
       "      <td>1.127</td>\n",
       "      <td>1.104</td>\n",
       "      <td>1.231</td>\n",
       "      <td>1.079</td>\n",
       "      <td>1.063</td>\n",
       "      <td>1.167</td>\n",
       "      <td>1.170</td>\n",
       "      <td>1.159</td>\n",
       "      <td>1.298</td>\n",
       "      <td>1.272</td>\n",
       "      <td>1.250</td>\n",
       "      <td>1.386</td>\n",
       "      <td>1.104</td>\n",
       "    </tr>\n",
       "    <tr>\n",
       "      <td>1</td>\n",
       "      <td>01/09/1995</td>\n",
       "      <td>1.134</td>\n",
       "      <td>1.111</td>\n",
       "      <td>1.232</td>\n",
       "      <td>1.086</td>\n",
       "      <td>1.070</td>\n",
       "      <td>1.169</td>\n",
       "      <td>1.177</td>\n",
       "      <td>1.164</td>\n",
       "      <td>1.300</td>\n",
       "      <td>1.279</td>\n",
       "      <td>1.256</td>\n",
       "      <td>1.387</td>\n",
       "      <td>1.102</td>\n",
       "    </tr>\n",
       "    <tr>\n",
       "      <td>2</td>\n",
       "      <td>01/16/1995</td>\n",
       "      <td>1.126</td>\n",
       "      <td>1.102</td>\n",
       "      <td>1.231</td>\n",
       "      <td>1.078</td>\n",
       "      <td>1.062</td>\n",
       "      <td>1.169</td>\n",
       "      <td>1.168</td>\n",
       "      <td>1.155</td>\n",
       "      <td>1.299</td>\n",
       "      <td>1.271</td>\n",
       "      <td>1.249</td>\n",
       "      <td>1.385</td>\n",
       "      <td>1.100</td>\n",
       "    </tr>\n",
       "    <tr>\n",
       "      <td>3</td>\n",
       "      <td>01/23/1995</td>\n",
       "      <td>1.132</td>\n",
       "      <td>1.110</td>\n",
       "      <td>1.226</td>\n",
       "      <td>1.083</td>\n",
       "      <td>1.068</td>\n",
       "      <td>1.165</td>\n",
       "      <td>1.177</td>\n",
       "      <td>1.165</td>\n",
       "      <td>1.296</td>\n",
       "      <td>1.277</td>\n",
       "      <td>1.256</td>\n",
       "      <td>1.378</td>\n",
       "      <td>1.095</td>\n",
       "    </tr>\n",
       "    <tr>\n",
       "      <td>4</td>\n",
       "      <td>01/30/1995</td>\n",
       "      <td>1.131</td>\n",
       "      <td>1.109</td>\n",
       "      <td>1.221</td>\n",
       "      <td>1.083</td>\n",
       "      <td>1.068</td>\n",
       "      <td>1.162</td>\n",
       "      <td>1.176</td>\n",
       "      <td>1.163</td>\n",
       "      <td>1.291</td>\n",
       "      <td>1.275</td>\n",
       "      <td>1.255</td>\n",
       "      <td>1.370</td>\n",
       "      <td>1.090</td>\n",
       "    </tr>\n",
       "  </tbody>\n",
       "</table>\n",
       "</div>"
      ],
      "text/plain": [
       "         Date     A1     A2     A3     R1     R2     R3     M1     M2     M3  \\\n",
       "0  01/02/1995  1.127  1.104  1.231  1.079  1.063  1.167  1.170  1.159  1.298   \n",
       "1  01/09/1995  1.134  1.111  1.232  1.086  1.070  1.169  1.177  1.164  1.300   \n",
       "2  01/16/1995  1.126  1.102  1.231  1.078  1.062  1.169  1.168  1.155  1.299   \n",
       "3  01/23/1995  1.132  1.110  1.226  1.083  1.068  1.165  1.177  1.165  1.296   \n",
       "4  01/30/1995  1.131  1.109  1.221  1.083  1.068  1.162  1.176  1.163  1.291   \n",
       "\n",
       "      P1     P2     P3     D1  \n",
       "0  1.272  1.250  1.386  1.104  \n",
       "1  1.279  1.256  1.387  1.102  \n",
       "2  1.271  1.249  1.385  1.100  \n",
       "3  1.277  1.256  1.378  1.095  \n",
       "4  1.275  1.255  1.370  1.090  "
      ]
     },
     "execution_count": 21,
     "metadata": {},
     "output_type": "execute_result"
    }
   ],
   "source": [
    "df=pd.read_csv('data1.csv')\n",
    "df.head()"
   ]
  },
  {
   "cell_type": "code",
   "execution_count": 22,
   "metadata": {},
   "outputs": [
    {
     "data": {
      "text/plain": [
       "0    01/02/1995\n",
       "1    01/09/1995\n",
       "2    01/16/1995\n",
       "3    01/23/1995\n",
       "Name: Date, dtype: object"
      ]
     },
     "execution_count": 22,
     "metadata": {},
     "output_type": "execute_result"
    }
   ],
   "source": [
    "df['Date'].head(4)\n",
    "#checking if it really conatins the dates"
   ]
  },
  {
   "cell_type": "code",
   "execution_count": 23,
   "metadata": {},
   "outputs": [
    {
     "data": {
      "text/plain": [
       "dtype('O')"
      ]
     },
     "execution_count": 23,
     "metadata": {},
     "output_type": "execute_result"
    }
   ],
   "source": [
    "df['Date'].dtype"
   ]
  },
  {
   "cell_type": "code",
   "execution_count": null,
   "metadata": {},
   "outputs": [],
   "source": []
  },
  {
   "cell_type": "code",
   "execution_count": 24,
   "metadata": {},
   "outputs": [
    {
     "data": {
      "text/html": [
       "<div>\n",
       "<style scoped>\n",
       "    .dataframe tbody tr th:only-of-type {\n",
       "        vertical-align: middle;\n",
       "    }\n",
       "\n",
       "    .dataframe tbody tr th {\n",
       "        vertical-align: top;\n",
       "    }\n",
       "\n",
       "    .dataframe thead th {\n",
       "        text-align: right;\n",
       "    }\n",
       "</style>\n",
       "<table border=\"1\" class=\"dataframe\">\n",
       "  <thead>\n",
       "    <tr style=\"text-align: right;\">\n",
       "      <th></th>\n",
       "      <th>Date</th>\n",
       "      <th>A1</th>\n",
       "      <th>A2</th>\n",
       "      <th>A3</th>\n",
       "      <th>R1</th>\n",
       "      <th>R2</th>\n",
       "      <th>R3</th>\n",
       "      <th>M1</th>\n",
       "      <th>M2</th>\n",
       "      <th>M3</th>\n",
       "      <th>P1</th>\n",
       "      <th>P2</th>\n",
       "      <th>P3</th>\n",
       "      <th>D1</th>\n",
       "      <th>date_parsed</th>\n",
       "    </tr>\n",
       "  </thead>\n",
       "  <tbody>\n",
       "    <tr>\n",
       "      <td>0</td>\n",
       "      <td>01/02/1995</td>\n",
       "      <td>1.127</td>\n",
       "      <td>1.104</td>\n",
       "      <td>1.231</td>\n",
       "      <td>1.079</td>\n",
       "      <td>1.063</td>\n",
       "      <td>1.167</td>\n",
       "      <td>1.170</td>\n",
       "      <td>1.159</td>\n",
       "      <td>1.298</td>\n",
       "      <td>1.272</td>\n",
       "      <td>1.250</td>\n",
       "      <td>1.386</td>\n",
       "      <td>1.104</td>\n",
       "      <td>1995-01-02</td>\n",
       "    </tr>\n",
       "    <tr>\n",
       "      <td>1</td>\n",
       "      <td>01/09/1995</td>\n",
       "      <td>1.134</td>\n",
       "      <td>1.111</td>\n",
       "      <td>1.232</td>\n",
       "      <td>1.086</td>\n",
       "      <td>1.070</td>\n",
       "      <td>1.169</td>\n",
       "      <td>1.177</td>\n",
       "      <td>1.164</td>\n",
       "      <td>1.300</td>\n",
       "      <td>1.279</td>\n",
       "      <td>1.256</td>\n",
       "      <td>1.387</td>\n",
       "      <td>1.102</td>\n",
       "      <td>1995-01-09</td>\n",
       "    </tr>\n",
       "    <tr>\n",
       "      <td>2</td>\n",
       "      <td>01/16/1995</td>\n",
       "      <td>1.126</td>\n",
       "      <td>1.102</td>\n",
       "      <td>1.231</td>\n",
       "      <td>1.078</td>\n",
       "      <td>1.062</td>\n",
       "      <td>1.169</td>\n",
       "      <td>1.168</td>\n",
       "      <td>1.155</td>\n",
       "      <td>1.299</td>\n",
       "      <td>1.271</td>\n",
       "      <td>1.249</td>\n",
       "      <td>1.385</td>\n",
       "      <td>1.100</td>\n",
       "      <td>1995-01-16</td>\n",
       "    </tr>\n",
       "    <tr>\n",
       "      <td>3</td>\n",
       "      <td>01/23/1995</td>\n",
       "      <td>1.132</td>\n",
       "      <td>1.110</td>\n",
       "      <td>1.226</td>\n",
       "      <td>1.083</td>\n",
       "      <td>1.068</td>\n",
       "      <td>1.165</td>\n",
       "      <td>1.177</td>\n",
       "      <td>1.165</td>\n",
       "      <td>1.296</td>\n",
       "      <td>1.277</td>\n",
       "      <td>1.256</td>\n",
       "      <td>1.378</td>\n",
       "      <td>1.095</td>\n",
       "      <td>1995-01-23</td>\n",
       "    </tr>\n",
       "    <tr>\n",
       "      <td>4</td>\n",
       "      <td>01/30/1995</td>\n",
       "      <td>1.131</td>\n",
       "      <td>1.109</td>\n",
       "      <td>1.221</td>\n",
       "      <td>1.083</td>\n",
       "      <td>1.068</td>\n",
       "      <td>1.162</td>\n",
       "      <td>1.176</td>\n",
       "      <td>1.163</td>\n",
       "      <td>1.291</td>\n",
       "      <td>1.275</td>\n",
       "      <td>1.255</td>\n",
       "      <td>1.370</td>\n",
       "      <td>1.090</td>\n",
       "      <td>1995-01-30</td>\n",
       "    </tr>\n",
       "    <tr>\n",
       "      <td>...</td>\n",
       "      <td>...</td>\n",
       "      <td>...</td>\n",
       "      <td>...</td>\n",
       "      <td>...</td>\n",
       "      <td>...</td>\n",
       "      <td>...</td>\n",
       "      <td>...</td>\n",
       "      <td>...</td>\n",
       "      <td>...</td>\n",
       "      <td>...</td>\n",
       "      <td>...</td>\n",
       "      <td>...</td>\n",
       "      <td>...</td>\n",
       "      <td>...</td>\n",
       "      <td>...</td>\n",
       "    </tr>\n",
       "    <tr>\n",
       "      <td>1356</td>\n",
       "      <td>12/28/2020</td>\n",
       "      <td>2.330</td>\n",
       "      <td>2.225</td>\n",
       "      <td>2.535</td>\n",
       "      <td>2.243</td>\n",
       "      <td>2.158</td>\n",
       "      <td>2.423</td>\n",
       "      <td>2.634</td>\n",
       "      <td>2.482</td>\n",
       "      <td>2.858</td>\n",
       "      <td>2.889</td>\n",
       "      <td>2.770</td>\n",
       "      <td>3.031</td>\n",
       "      <td>2.635</td>\n",
       "      <td>2020-12-28</td>\n",
       "    </tr>\n",
       "    <tr>\n",
       "      <td>1357</td>\n",
       "      <td>01/04/2021</td>\n",
       "      <td>2.336</td>\n",
       "      <td>2.227</td>\n",
       "      <td>2.549</td>\n",
       "      <td>2.249</td>\n",
       "      <td>2.160</td>\n",
       "      <td>2.437</td>\n",
       "      <td>2.639</td>\n",
       "      <td>2.484</td>\n",
       "      <td>2.867</td>\n",
       "      <td>2.895</td>\n",
       "      <td>2.771</td>\n",
       "      <td>3.042</td>\n",
       "      <td>2.640</td>\n",
       "      <td>2021-01-04</td>\n",
       "    </tr>\n",
       "    <tr>\n",
       "      <td>1358</td>\n",
       "      <td>01/11/2021</td>\n",
       "      <td>2.403</td>\n",
       "      <td>2.298</td>\n",
       "      <td>2.610</td>\n",
       "      <td>2.317</td>\n",
       "      <td>2.232</td>\n",
       "      <td>2.498</td>\n",
       "      <td>2.702</td>\n",
       "      <td>2.550</td>\n",
       "      <td>2.927</td>\n",
       "      <td>2.959</td>\n",
       "      <td>2.839</td>\n",
       "      <td>3.101</td>\n",
       "      <td>2.670</td>\n",
       "      <td>2021-01-11</td>\n",
       "    </tr>\n",
       "    <tr>\n",
       "      <td>1359</td>\n",
       "      <td>01/18/2021</td>\n",
       "      <td>2.464</td>\n",
       "      <td>2.351</td>\n",
       "      <td>2.688</td>\n",
       "      <td>2.379</td>\n",
       "      <td>2.285</td>\n",
       "      <td>2.579</td>\n",
       "      <td>2.759</td>\n",
       "      <td>2.601</td>\n",
       "      <td>2.995</td>\n",
       "      <td>3.014</td>\n",
       "      <td>2.885</td>\n",
       "      <td>3.166</td>\n",
       "      <td>2.696</td>\n",
       "      <td>2021-01-18</td>\n",
       "    </tr>\n",
       "    <tr>\n",
       "      <td>1360</td>\n",
       "      <td>01/25/2021</td>\n",
       "      <td>2.478</td>\n",
       "      <td>2.363</td>\n",
       "      <td>2.703</td>\n",
       "      <td>2.392</td>\n",
       "      <td>2.298</td>\n",
       "      <td>2.593</td>\n",
       "      <td>2.776</td>\n",
       "      <td>2.615</td>\n",
       "      <td>3.014</td>\n",
       "      <td>3.033</td>\n",
       "      <td>2.900</td>\n",
       "      <td>3.191</td>\n",
       "      <td>2.716</td>\n",
       "      <td>2021-01-25</td>\n",
       "    </tr>\n",
       "  </tbody>\n",
       "</table>\n",
       "<p>1361 rows × 15 columns</p>\n",
       "</div>"
      ],
      "text/plain": [
       "            Date     A1     A2     A3     R1     R2     R3     M1     M2  \\\n",
       "0     01/02/1995  1.127  1.104  1.231  1.079  1.063  1.167  1.170  1.159   \n",
       "1     01/09/1995  1.134  1.111  1.232  1.086  1.070  1.169  1.177  1.164   \n",
       "2     01/16/1995  1.126  1.102  1.231  1.078  1.062  1.169  1.168  1.155   \n",
       "3     01/23/1995  1.132  1.110  1.226  1.083  1.068  1.165  1.177  1.165   \n",
       "4     01/30/1995  1.131  1.109  1.221  1.083  1.068  1.162  1.176  1.163   \n",
       "...          ...    ...    ...    ...    ...    ...    ...    ...    ...   \n",
       "1356  12/28/2020  2.330  2.225  2.535  2.243  2.158  2.423  2.634  2.482   \n",
       "1357  01/04/2021  2.336  2.227  2.549  2.249  2.160  2.437  2.639  2.484   \n",
       "1358  01/11/2021  2.403  2.298  2.610  2.317  2.232  2.498  2.702  2.550   \n",
       "1359  01/18/2021  2.464  2.351  2.688  2.379  2.285  2.579  2.759  2.601   \n",
       "1360  01/25/2021  2.478  2.363  2.703  2.392  2.298  2.593  2.776  2.615   \n",
       "\n",
       "         M3     P1     P2     P3     D1 date_parsed  \n",
       "0     1.298  1.272  1.250  1.386  1.104  1995-01-02  \n",
       "1     1.300  1.279  1.256  1.387  1.102  1995-01-09  \n",
       "2     1.299  1.271  1.249  1.385  1.100  1995-01-16  \n",
       "3     1.296  1.277  1.256  1.378  1.095  1995-01-23  \n",
       "4     1.291  1.275  1.255  1.370  1.090  1995-01-30  \n",
       "...     ...    ...    ...    ...    ...         ...  \n",
       "1356  2.858  2.889  2.770  3.031  2.635  2020-12-28  \n",
       "1357  2.867  2.895  2.771  3.042  2.640  2021-01-04  \n",
       "1358  2.927  2.959  2.839  3.101  2.670  2021-01-11  \n",
       "1359  2.995  3.014  2.885  3.166  2.696  2021-01-18  \n",
       "1360  3.014  3.033  2.900  3.191  2.716  2021-01-25  \n",
       "\n",
       "[1361 rows x 15 columns]"
      ]
     },
     "execution_count": 24,
     "metadata": {},
     "output_type": "execute_result"
    }
   ],
   "source": [
    "df['date_parsed'] = pd.to_datetime(df['Date'], infer_datetime_format=True)\n",
    "df"
   ]
  },
  {
   "cell_type": "code",
   "execution_count": 25,
   "metadata": {},
   "outputs": [
    {
     "data": {
      "text/plain": [
       "0   1995-01-02\n",
       "1   1995-01-09\n",
       "2   1995-01-16\n",
       "3   1995-01-23\n",
       "4   1995-01-30\n",
       "Name: date_parsed, dtype: datetime64[ns]"
      ]
     },
     "execution_count": 25,
     "metadata": {},
     "output_type": "execute_result"
    }
   ],
   "source": [
    "#checking out the date format\n",
    "df['date_parsed'].head()"
   ]
  },
  {
   "cell_type": "code",
   "execution_count": 26,
   "metadata": {},
   "outputs": [
    {
     "data": {
      "text/plain": [
       "0        2\n",
       "1        9\n",
       "2       16\n",
       "3       23\n",
       "4       30\n",
       "        ..\n",
       "1356    28\n",
       "1357     4\n",
       "1358    11\n",
       "1359    18\n",
       "1360    25\n",
       "Name: date_parsed, Length: 1361, dtype: int64"
      ]
     },
     "execution_count": 26,
     "metadata": {},
     "output_type": "execute_result"
    }
   ],
   "source": [
    "#exteacting details from the date\n",
    "#extrating the day  of the month\n",
    "spec=df['date_parsed'].dt.day\n",
    "spec"
   ]
  },
  {
   "cell_type": "code",
   "execution_count": 27,
   "metadata": {},
   "outputs": [
    {
     "data": {
      "text/plain": [
       "<matplotlib.axes._subplots.AxesSubplot at 0x7fc2ce411e10>"
      ]
     },
     "execution_count": 27,
     "metadata": {},
     "output_type": "execute_result"
    },
    {
     "data": {
      "image/png": "[encoded data removed]",
      "text/plain": [
       "<Figure size 432x288 with 1 Axes>"
      ]
     },
     "metadata": {
      "needs_background": "light"
     },
     "output_type": "display_data"
    }
   ],
   "source": [
    "sns.distplot(spec)\n",
    "#the purse of this was to make sure the dates extracted make sense."
   ]
  },
  {
   "cell_type": "markdown",
   "metadata": {},
   "source": [
    "# dealing with character encoding"
   ]
  },
  {
   "cell_type": "code",
   "execution_count": 28,
   "metadata": {},
   "outputs": [
    {
     "data": {
      "text/plain": [
       "str"
      ]
     },
     "execution_count": 28,
     "metadata": {},
     "output_type": "execute_result"
    }
   ],
   "source": [
    "win=\"will have to make it\"\n",
    "type(win)"
   ]
  },
  {
   "cell_type": "code",
   "execution_count": null,
   "metadata": {},
   "outputs": [],
   "source": []
  }
 ],
 "metadata": {
  "kernelspec": {
   "display_name": "Python 3",
   "language": "python",
   "name": "python3"
  },
  "language_info": {
   "codemirror_mode": {
    "name": "ipython",
    "version": 3
   },
   "file_extension": ".py",
   "mimetype": "text/x-python",
   "name": "python",
   "nbconvert_exporter": "python",
   "pygments_lexer": "ipython3",
   "version": "3.7.4"
  }
 },
 "nbformat": 4,
 "nbformat_minor": 2
}
